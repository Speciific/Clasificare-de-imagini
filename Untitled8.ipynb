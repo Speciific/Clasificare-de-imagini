{
 "cells": [
  {
   "cell_type": "code",
   "execution_count": 1,
   "id": "9108ba8e-498c-4372-bcfa-eb08390784ea",
   "metadata": {},
   "outputs": [],
   "source": [
    "import os\n",
    "import random\n",
    "import shutil\n",
    "from sklearn.model_selection import train_test_split\n",
    "from tensorflow.keras.preprocessing.image import ImageDataGenerator\n",
    "from tensorflow.keras.models import Sequential\n",
    "from tensorflow.keras.layers import Conv2D, MaxPooling2D, Flatten, Dense"
   ]
  },
  {
   "cell_type": "code",
   "execution_count": 4,
   "id": "7e340284-4e46-4381-b9fe-a1dd6b0a422e",
   "metadata": {},
   "outputs": [],
   "source": [
    "data_path = 'C:/Users/Adi/Desktop/OpenCVPy/Dog Emotion1'"
   ]
  },
  {
   "cell_type": "code",
   "execution_count": 5,
   "id": "0de53b8c-31d8-4152-bfb8-7406f56b6582",
   "metadata": {},
   "outputs": [],
   "source": [
    "image_files = []\n",
    "for folder in os.listdir(data_path):\n",
    "    folder_path = os.path.join(data_path, folder)\n",
    "    if os.path.isdir(folder_path):\n",
    "        image_files.extend([os.path.join(folder_path, file) for file in os.listdir(folder_path)])\n",
    "\n",
    "random.shuffle(image_files)\n",
    "train_files, val_files = train_test_split(image_files, test_size=0.33)"
   ]
  },
  {
   "cell_type": "code",
   "execution_count": 6,
   "id": "83ae9806-e048-458b-be24-b65d0aa8d63e",
   "metadata": {},
   "outputs": [],
   "source": [
    "train_path = 'C:/Users/Adi/Desktop/OpenCVPy/antrenament'\n",
    "os.makedirs(train_path, exist_ok=True)\n",
    "for file in train_files:\n",
    "    shutil.copy(file, train_path)"
   ]
  },
  {
   "cell_type": "code",
   "execution_count": 7,
   "id": "3178cc3a-fda1-4387-b74f-9a0332752563",
   "metadata": {},
   "outputs": [],
   "source": [
    "val_path = 'C:/Users/Adi/Desktop/OpenCVPy/validare'\n",
    "os.makedirs(val_path, exist_ok=True)\n",
    "for file in val_files:\n",
    "    shutil.copy(file, val_path)"
   ]
  },
  {
   "cell_type": "code",
   "execution_count": 8,
   "id": "e7c05f0f-8488-48a5-b85c-71441d2c1b66",
   "metadata": {},
   "outputs": [],
   "source": [
    "model = Sequential([\n",
    "    Conv2D(32, (3, 3), activation='relu', input_shape=(224, 224, 3)),\n",
    "    MaxPooling2D((2, 2)),\n",
    "    Conv2D(64, (3, 3), activation='relu'),\n",
    "    MaxPooling2D((2, 2)),\n",
    "    Flatten(),\n",
    "    Dense(128, activation='relu'),\n",
    "    Dense(4, activation='softmax')  # 4 clase pentru stari emotionale la caini\n",
    "])"
   ]
  },
  {
   "cell_type": "code",
   "execution_count": 9,
   "id": "2e611e93-2c48-433f-b30c-45ab51eb8198",
   "metadata": {},
   "outputs": [],
   "source": [
    "model.compile(optimizer='adam', loss='categorical_crossentropy', metrics=['accuracy'])"
   ]
  },
  {
   "cell_type": "code",
   "execution_count": 11,
   "id": "6448095c-421f-4dc2-a0b5-7782af2cb7dc",
   "metadata": {},
   "outputs": [
    {
     "name": "stdout",
     "output_type": "stream",
     "text": [
      "Found 4000 images belonging to 4 classes.\n",
      "Found 4000 images belonging to 4 classes.\n",
      "Epoch 1/10\n",
      "125/125 [==============================] - 272s 2s/step - loss: 1.6163 - accuracy: 0.3442 - val_loss: 1.1890 - val_accuracy: 0.4880\n",
      "Epoch 2/10\n",
      "125/125 [==============================] - 147s 1s/step - loss: 1.1280 - accuracy: 0.4873 - val_loss: 0.8770 - val_accuracy: 0.6990\n",
      "Epoch 3/10\n",
      "125/125 [==============================] - 150s 1s/step - loss: 0.8063 - accuracy: 0.6770 - val_loss: 0.4471 - val_accuracy: 0.8888\n",
      "Epoch 4/10\n",
      "125/125 [==============================] - 148s 1s/step - loss: 0.3460 - accuracy: 0.8788 - val_loss: 0.1209 - val_accuracy: 0.9743\n",
      "Epoch 5/10\n",
      "125/125 [==============================] - 157s 1s/step - loss: 0.1109 - accuracy: 0.9685 - val_loss: 0.0345 - val_accuracy: 0.9960\n",
      "Epoch 6/10\n",
      "125/125 [==============================] - 158s 1s/step - loss: 0.0266 - accuracy: 0.9945 - val_loss: 0.0171 - val_accuracy: 0.9962\n",
      "Epoch 7/10\n",
      "125/125 [==============================] - 161s 1s/step - loss: 0.0174 - accuracy: 0.9973 - val_loss: 0.0135 - val_accuracy: 0.9952\n",
      "Epoch 8/10\n",
      "125/125 [==============================] - 165s 1s/step - loss: 0.0085 - accuracy: 0.9987 - val_loss: 0.0070 - val_accuracy: 0.9995\n",
      "Epoch 9/10\n",
      "125/125 [==============================] - 157s 1s/step - loss: 0.0522 - accuracy: 0.9877 - val_loss: 0.0178 - val_accuracy: 0.9973\n",
      "Epoch 10/10\n",
      "125/125 [==============================] - 152s 1s/step - loss: 0.0192 - accuracy: 0.9958 - val_loss: 0.0083 - val_accuracy: 0.9985\n"
     ]
    }
   ],
   "source": [
    "train_datagen = ImageDataGenerator(rescale=1./255)\n",
    "val_datagen = ImageDataGenerator(rescale=1./255)\n",
    "\n",
    "train_generator = train_datagen.flow_from_directory(\n",
    "    train_path,\n",
    "    target_size=(224, 224),\n",
    "    batch_size=32,\n",
    "    class_mode='categorical'\n",
    ")\n",
    "\n",
    "val_generator = val_datagen.flow_from_directory(\n",
    "    val_path,\n",
    "    target_size=(224, 224),\n",
    "    batch_size=32,\n",
    "    class_mode='categorical'\n",
    ")\n",
    "\n",
    "history = model.fit(\n",
    "    train_generator,\n",
    "    steps_per_epoch=len(train_generator),\n",
    "    epochs=10,\n",
    "    validation_data=val_generator,\n",
    "    validation_steps=len(val_generator)\n",
    ")"
   ]
  },
  {
   "cell_type": "code",
   "execution_count": 12,
   "id": "c334a376-d9fe-424c-9294-de4030fcca1e",
   "metadata": {},
   "outputs": [
    {
     "name": "stdout",
     "output_type": "stream",
     "text": [
      "125/125 [==============================] - 28s 221ms/step - loss: 0.0083 - accuracy: 0.9985\n",
      "Acuratetea pe setul de validare: 0.9984999895095825\n"
     ]
    }
   ],
   "source": [
    "accuracy = model.evaluate(val_generator)[1]\n",
    "print(f'Acuratetea pe setul de validare: {accuracy}')"
   ]
  },
  {
   "cell_type": "code",
   "execution_count": null,
   "id": "bce515a1-904d-4af0-be6a-a4687cdf763b",
   "metadata": {},
   "outputs": [],
   "source": []
  }
 ],
 "metadata": {
  "kernelspec": {
   "display_name": "Python 3 (ipykernel)",
   "language": "python",
   "name": "python3"
  },
  "language_info": {
   "codemirror_mode": {
    "name": "ipython",
    "version": 3
   },
   "file_extension": ".py",
   "mimetype": "text/x-python",
   "name": "python",
   "nbconvert_exporter": "python",
   "pygments_lexer": "ipython3",
   "version": "3.9.18"
  }
 },
 "nbformat": 4,
 "nbformat_minor": 5
}
